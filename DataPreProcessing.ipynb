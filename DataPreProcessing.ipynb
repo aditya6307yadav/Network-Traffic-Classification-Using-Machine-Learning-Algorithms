{
  "nbformat": 4,
  "nbformat_minor": 0,
  "metadata": {
    "colab": {
      "provenance": []
    },
    "kernelspec": {
      "name": "python3",
      "display_name": "Python 3"
    },
    "language_info": {
      "name": "python"
    }
  },
  "cells": [
    {
      "cell_type": "code",
      "source": [
        "`import numpy as np\n",
        "import pandas as pd\n",
        "import matplotlib.pyplot as plt\n",
        "\n",
        "import socket, struct\n",
        "\n",
        "import imblearn\n",
        "from imblearn.under_sampling import RandomUnderSampler\n",
        "from sklearn.preprocessing import LabelEncoder\n",
        "from collections import Counter\n",
        "from imblearn.over_sampling import SMOTE\n",
        "from imblearn.pipeline import make_pipeline\n",
        "from imblearn.under_sampling import NearMiss"
      ],
      "metadata": {
        "id": "H8MVCMRHpHIZ"
      },
      "execution_count": null,
      "outputs": []
    },
    {
      "cell_type": "markdown",
      "source": [
        "**Load The Dataset**"
      ],
      "metadata": {
        "id": "kwNdXPG2SLij"
      }
    },
    {
      "cell_type": "code",
      "source": [
        "data=pd.read_csv(\"/content/drive/MyDrive/Dataset.csv\")"
      ],
      "metadata": {
        "id": "18n4eufJOFxt"
      },
      "execution_count": null,
      "outputs": []
    },
    {
      "cell_type": "code",
      "source": [
        "data.shape"
      ],
      "metadata": {
        "colab": {
          "base_uri": "https://localhost:8080/"
        },
        "id": "lbmxbZaDOKQs",
        "outputId": "f012113c-8aa1-44e5-dd10-c7755dd5804a"
      },
      "execution_count": null,
      "outputs": [
        {
          "output_type": "execute_result",
          "data": {
            "text/plain": [
              "(3577296, 87)"
            ]
          },
          "metadata": {},
          "execution_count": 6
        }
      ]
    },
    {
      "cell_type": "code",
      "source": [
        "data=data.iloc[:2000000,:]"
      ],
      "metadata": {
        "id": "V8UsHM41Oz2S"
      },
      "execution_count": null,
      "outputs": []
    },
    {
      "cell_type": "code",
      "source": [
        "data.shape"
      ],
      "metadata": {
        "colab": {
          "base_uri": "https://localhost:8080/"
        },
        "id": "G6LdcDRwO7e0",
        "outputId": "538d6dc1-8eed-4c5b-8a95-17e6b816d12e"
      },
      "execution_count": null,
      "outputs": [
        {
          "output_type": "execute_result",
          "data": {
            "text/plain": [
              "(2000000, 87)"
            ]
          },
          "metadata": {},
          "execution_count": 8
        }
      ]
    },
    {
      "cell_type": "code",
      "source": [
        "data.columns"
      ],
      "metadata": {
        "colab": {
          "base_uri": "https://localhost:8080/"
        },
        "id": "6G3aEq80O9wU",
        "outputId": "6ed37c1a-3ed0-41fd-a882-ab1f1f09dcdb"
      },
      "execution_count": null,
      "outputs": [
        {
          "output_type": "execute_result",
          "data": {
            "text/plain": [
              "Index(['Flow.ID', 'Source.IP', 'Source.Port', 'Destination.IP',\n",
              "       'Destination.Port', 'Protocol', 'Timestamp', 'Flow.Duration',\n",
              "       'Total.Fwd.Packets', 'Total.Backward.Packets',\n",
              "       'Total.Length.of.Fwd.Packets', 'Total.Length.of.Bwd.Packets',\n",
              "       'Fwd.Packet.Length.Max', 'Fwd.Packet.Length.Min',\n",
              "       'Fwd.Packet.Length.Mean', 'Fwd.Packet.Length.Std',\n",
              "       'Bwd.Packet.Length.Max', 'Bwd.Packet.Length.Min',\n",
              "       'Bwd.Packet.Length.Mean', 'Bwd.Packet.Length.Std', 'Flow.Bytes.s',\n",
              "       'Flow.Packets.s', 'Flow.IAT.Mean', 'Flow.IAT.Std', 'Flow.IAT.Max',\n",
              "       'Flow.IAT.Min', 'Fwd.IAT.Total', 'Fwd.IAT.Mean', 'Fwd.IAT.Std',\n",
              "       'Fwd.IAT.Max', 'Fwd.IAT.Min', 'Bwd.IAT.Total', 'Bwd.IAT.Mean',\n",
              "       'Bwd.IAT.Std', 'Bwd.IAT.Max', 'Bwd.IAT.Min', 'Fwd.PSH.Flags',\n",
              "       'Bwd.PSH.Flags', 'Fwd.URG.Flags', 'Bwd.URG.Flags', 'Fwd.Header.Length',\n",
              "       'Bwd.Header.Length', 'Fwd.Packets.s', 'Bwd.Packets.s',\n",
              "       'Min.Packet.Length', 'Max.Packet.Length', 'Packet.Length.Mean',\n",
              "       'Packet.Length.Std', 'Packet.Length.Variance', 'FIN.Flag.Count',\n",
              "       'SYN.Flag.Count', 'RST.Flag.Count', 'PSH.Flag.Count', 'ACK.Flag.Count',\n",
              "       'URG.Flag.Count', 'CWE.Flag.Count', 'ECE.Flag.Count', 'Down.Up.Ratio',\n",
              "       'Average.Packet.Size', 'Avg.Fwd.Segment.Size', 'Avg.Bwd.Segment.Size',\n",
              "       'Fwd.Header.Length.1', 'Fwd.Avg.Bytes.Bulk', 'Fwd.Avg.Packets.Bulk',\n",
              "       'Fwd.Avg.Bulk.Rate', 'Bwd.Avg.Bytes.Bulk', 'Bwd.Avg.Packets.Bulk',\n",
              "       'Bwd.Avg.Bulk.Rate', 'Subflow.Fwd.Packets', 'Subflow.Fwd.Bytes',\n",
              "       'Subflow.Bwd.Packets', 'Subflow.Bwd.Bytes', 'Init_Win_bytes_forward',\n",
              "       'Init_Win_bytes_backward', 'act_data_pkt_fwd', 'min_seg_size_forward',\n",
              "       'Active.Mean', 'Active.Std', 'Active.Max', 'Active.Min', 'Idle.Mean',\n",
              "       'Idle.Std', 'Idle.Max', 'Idle.Min', 'Label', 'L7Protocol',\n",
              "       'ProtocolName'],\n",
              "      dtype='object')"
            ]
          },
          "metadata": {},
          "execution_count": 9
        }
      ]
    },
    {
      "cell_type": "markdown",
      "source": [
        "**Handel the Missing value**"
      ],
      "metadata": {
        "id": "yKr3HKeLSYz3"
      }
    },
    {
      "cell_type": "code",
      "source": [
        "data.isnull().sum()"
      ],
      "metadata": {
        "id": "a_4qPSpYchZA",
        "colab": {
          "base_uri": "https://localhost:8080/",
          "height": 458
        },
        "outputId": "016571a8-65ad-4fb3-c2e2-22899dabb670"
      },
      "execution_count": null,
      "outputs": [
        {
          "output_type": "execute_result",
          "data": {
            "text/plain": [
              "Flow.ID             0\n",
              "Source.IP           0\n",
              "Source.Port         0\n",
              "Destination.IP      0\n",
              "Destination.Port    0\n",
              "                   ..\n",
              "Idle.Max            0\n",
              "Idle.Min            0\n",
              "Label               0\n",
              "L7Protocol          0\n",
              "ProtocolName        0\n",
              "Length: 87, dtype: int64"
            ],
            "text/html": [
              "<div>\n",
              "<style scoped>\n",
              "    .dataframe tbody tr th:only-of-type {\n",
              "        vertical-align: middle;\n",
              "    }\n",
              "\n",
              "    .dataframe tbody tr th {\n",
              "        vertical-align: top;\n",
              "    }\n",
              "\n",
              "    .dataframe thead th {\n",
              "        text-align: right;\n",
              "    }\n",
              "</style>\n",
              "<table border=\"1\" class=\"dataframe\">\n",
              "  <thead>\n",
              "    <tr style=\"text-align: right;\">\n",
              "      <th></th>\n",
              "      <th>0</th>\n",
              "    </tr>\n",
              "  </thead>\n",
              "  <tbody>\n",
              "    <tr>\n",
              "      <th>Flow.ID</th>\n",
              "      <td>0</td>\n",
              "    </tr>\n",
              "    <tr>\n",
              "      <th>Source.IP</th>\n",
              "      <td>0</td>\n",
              "    </tr>\n",
              "    <tr>\n",
              "      <th>Source.Port</th>\n",
              "      <td>0</td>\n",
              "    </tr>\n",
              "    <tr>\n",
              "      <th>Destination.IP</th>\n",
              "      <td>0</td>\n",
              "    </tr>\n",
              "    <tr>\n",
              "      <th>Destination.Port</th>\n",
              "      <td>0</td>\n",
              "    </tr>\n",
              "    <tr>\n",
              "      <th>...</th>\n",
              "      <td>...</td>\n",
              "    </tr>\n",
              "    <tr>\n",
              "      <th>Idle.Max</th>\n",
              "      <td>0</td>\n",
              "    </tr>\n",
              "    <tr>\n",
              "      <th>Idle.Min</th>\n",
              "      <td>0</td>\n",
              "    </tr>\n",
              "    <tr>\n",
              "      <th>Label</th>\n",
              "      <td>0</td>\n",
              "    </tr>\n",
              "    <tr>\n",
              "      <th>L7Protocol</th>\n",
              "      <td>0</td>\n",
              "    </tr>\n",
              "    <tr>\n",
              "      <th>ProtocolName</th>\n",
              "      <td>0</td>\n",
              "    </tr>\n",
              "  </tbody>\n",
              "</table>\n",
              "<p>87 rows × 1 columns</p>\n",
              "</div><br><label><b>dtype:</b> int64</label>"
            ]
          },
          "metadata": {},
          "execution_count": 10
        }
      ]
    },
    {
      "cell_type": "code",
      "source": [
        "# Check for missing values\n",
        "missing_values = data.isnull().sum()\n",
        "print(missing_values[missing_values > 0])  # Show columns with missing values\n"
      ],
      "metadata": {
        "colab": {
          "base_uri": "https://localhost:8080/"
        },
        "id": "dpYwet4D_Fs1",
        "outputId": "6e3e7edb-b226-4361-dc61-aedf4ad7c5ea"
      },
      "execution_count": null,
      "outputs": [
        {
          "output_type": "stream",
          "name": "stdout",
          "text": [
            "Series([], dtype: int64)\n"
          ]
        }
      ]
    },
    {
      "cell_type": "code",
      "source": [
        "data.shape"
      ],
      "metadata": {
        "colab": {
          "base_uri": "https://localhost:8080/"
        },
        "id": "YXUc6Whk8EF6",
        "outputId": "e6545a94-2cc9-4faa-fe00-de615185e6d1"
      },
      "execution_count": null,
      "outputs": [
        {
          "output_type": "execute_result",
          "data": {
            "text/plain": [
              "(2000000, 87)"
            ]
          },
          "metadata": {},
          "execution_count": 12
        }
      ]
    },
    {
      "cell_type": "code",
      "source": [
        "# Function that changes IP addresses into numbers\n",
        "\n",
        "def ip2int(ip):\n",
        "    packedIP = socket.inet_aton(ip)\n",
        "    return struct.unpack(\"!L\", packedIP)[0]"
      ],
      "metadata": {
        "id": "RIXTIXyDqp3r"
      },
      "execution_count": null,
      "outputs": []
    },
    {
      "cell_type": "code",
      "source": [
        "# Converting IP addresses into numbers\n",
        "data['Source.IP'] = data['Source.IP'].apply(ip2int)\n",
        "data['Destination.IP'] = data['Destination.IP'].apply(ip2int)"
      ],
      "metadata": {
        "id": "a-ILK9wEtEhh"
      },
      "execution_count": null,
      "outputs": []
    },
    {
      "cell_type": "code",
      "source": [
        "data.head(5)"
      ],
      "metadata": {
        "colab": {
          "base_uri": "https://localhost:8080/",
          "height": 429
        },
        "id": "5fiZaNtTtOmv",
        "outputId": "db2ea9ef-ac08-4283-8ed3-76255edaebb5"
      },
      "execution_count": null,
      "outputs": [
        {
          "output_type": "execute_result",
          "data": {
            "text/plain": [
              "                                 Flow.ID   Source.IP  Source.Port  \\\n",
              "0    172.19.1.46-10.200.7.7-52422-3128-6  2886926638        52422   \n",
              "1    172.19.1.46-10.200.7.7-52422-3128-6   180881159         3128   \n",
              "2   10.200.7.217-50.31.185.39-38848-80-6   840939815           80   \n",
              "3   10.200.7.217-50.31.185.39-38848-80-6   840939815           80   \n",
              "4  192.168.72.43-10.200.7.7-55961-3128-6  3232253995        55961   \n",
              "\n",
              "   Destination.IP  Destination.Port  Protocol           Timestamp  \\\n",
              "0       180881159              3128         6  26/04/201711:11:17   \n",
              "1      2886926638             52422         6  26/04/201711:11:17   \n",
              "2       180881369             38848         6  26/04/201711:11:17   \n",
              "3       180881369             38848         6  26/04/201711:11:17   \n",
              "4       180881159              3128         6  26/04/201711:11:17   \n",
              "\n",
              "   Flow.Duration  Total.Fwd.Packets  Total.Backward.Packets  ...  Active.Std  \\\n",
              "0          45523                 22                      55  ...         0.0   \n",
              "1              1                  2                       0  ...         0.0   \n",
              "2              1                  3                       0  ...         0.0   \n",
              "3            217                  1                       3  ...         0.0   \n",
              "4          78068                  5                       0  ...         0.0   \n",
              "\n",
              "   Active.Max  Active.Min  Idle.Mean  Idle.Std  Idle.Max  Idle.Min   Label  \\\n",
              "0         0.0         0.0        0.0       0.0       0.0       0.0  BENIGN   \n",
              "1         0.0         0.0        0.0       0.0       0.0       0.0  BENIGN   \n",
              "2         0.0         0.0        0.0       0.0       0.0       0.0  BENIGN   \n",
              "3         0.0         0.0        0.0       0.0       0.0       0.0  BENIGN   \n",
              "4         0.0         0.0        0.0       0.0       0.0       0.0  BENIGN   \n",
              "\n",
              "   L7Protocol  ProtocolName  \n",
              "0         131    HTTP_PROXY  \n",
              "1         131    HTTP_PROXY  \n",
              "2           7          HTTP  \n",
              "3           7          HTTP  \n",
              "4         131    HTTP_PROXY  \n",
              "\n",
              "[5 rows x 87 columns]"
            ],
            "text/html": [
              "\n",
              "  <div id=\"df-3f129e54-f5b3-4ca6-b252-1d484aa545e3\" class=\"colab-df-container\">\n",
              "    <div>\n",
              "<style scoped>\n",
              "    .dataframe tbody tr th:only-of-type {\n",
              "        vertical-align: middle;\n",
              "    }\n",
              "\n",
              "    .dataframe tbody tr th {\n",
              "        vertical-align: top;\n",
              "    }\n",
              "\n",
              "    .dataframe thead th {\n",
              "        text-align: right;\n",
              "    }\n",
              "</style>\n",
              "<table border=\"1\" class=\"dataframe\">\n",
              "  <thead>\n",
              "    <tr style=\"text-align: right;\">\n",
              "      <th></th>\n",
              "      <th>Flow.ID</th>\n",
              "      <th>Source.IP</th>\n",
              "      <th>Source.Port</th>\n",
              "      <th>Destination.IP</th>\n",
              "      <th>Destination.Port</th>\n",
              "      <th>Protocol</th>\n",
              "      <th>Timestamp</th>\n",
              "      <th>Flow.Duration</th>\n",
              "      <th>Total.Fwd.Packets</th>\n",
              "      <th>Total.Backward.Packets</th>\n",
              "      <th>...</th>\n",
              "      <th>Active.Std</th>\n",
              "      <th>Active.Max</th>\n",
              "      <th>Active.Min</th>\n",
              "      <th>Idle.Mean</th>\n",
              "      <th>Idle.Std</th>\n",
              "      <th>Idle.Max</th>\n",
              "      <th>Idle.Min</th>\n",
              "      <th>Label</th>\n",
              "      <th>L7Protocol</th>\n",
              "      <th>ProtocolName</th>\n",
              "    </tr>\n",
              "  </thead>\n",
              "  <tbody>\n",
              "    <tr>\n",
              "      <th>0</th>\n",
              "      <td>172.19.1.46-10.200.7.7-52422-3128-6</td>\n",
              "      <td>2886926638</td>\n",
              "      <td>52422</td>\n",
              "      <td>180881159</td>\n",
              "      <td>3128</td>\n",
              "      <td>6</td>\n",
              "      <td>26/04/201711:11:17</td>\n",
              "      <td>45523</td>\n",
              "      <td>22</td>\n",
              "      <td>55</td>\n",
              "      <td>...</td>\n",
              "      <td>0.0</td>\n",
              "      <td>0.0</td>\n",
              "      <td>0.0</td>\n",
              "      <td>0.0</td>\n",
              "      <td>0.0</td>\n",
              "      <td>0.0</td>\n",
              "      <td>0.0</td>\n",
              "      <td>BENIGN</td>\n",
              "      <td>131</td>\n",
              "      <td>HTTP_PROXY</td>\n",
              "    </tr>\n",
              "    <tr>\n",
              "      <th>1</th>\n",
              "      <td>172.19.1.46-10.200.7.7-52422-3128-6</td>\n",
              "      <td>180881159</td>\n",
              "      <td>3128</td>\n",
              "      <td>2886926638</td>\n",
              "      <td>52422</td>\n",
              "      <td>6</td>\n",
              "      <td>26/04/201711:11:17</td>\n",
              "      <td>1</td>\n",
              "      <td>2</td>\n",
              "      <td>0</td>\n",
              "      <td>...</td>\n",
              "      <td>0.0</td>\n",
              "      <td>0.0</td>\n",
              "      <td>0.0</td>\n",
              "      <td>0.0</td>\n",
              "      <td>0.0</td>\n",
              "      <td>0.0</td>\n",
              "      <td>0.0</td>\n",
              "      <td>BENIGN</td>\n",
              "      <td>131</td>\n",
              "      <td>HTTP_PROXY</td>\n",
              "    </tr>\n",
              "    <tr>\n",
              "      <th>2</th>\n",
              "      <td>10.200.7.217-50.31.185.39-38848-80-6</td>\n",
              "      <td>840939815</td>\n",
              "      <td>80</td>\n",
              "      <td>180881369</td>\n",
              "      <td>38848</td>\n",
              "      <td>6</td>\n",
              "      <td>26/04/201711:11:17</td>\n",
              "      <td>1</td>\n",
              "      <td>3</td>\n",
              "      <td>0</td>\n",
              "      <td>...</td>\n",
              "      <td>0.0</td>\n",
              "      <td>0.0</td>\n",
              "      <td>0.0</td>\n",
              "      <td>0.0</td>\n",
              "      <td>0.0</td>\n",
              "      <td>0.0</td>\n",
              "      <td>0.0</td>\n",
              "      <td>BENIGN</td>\n",
              "      <td>7</td>\n",
              "      <td>HTTP</td>\n",
              "    </tr>\n",
              "    <tr>\n",
              "      <th>3</th>\n",
              "      <td>10.200.7.217-50.31.185.39-38848-80-6</td>\n",
              "      <td>840939815</td>\n",
              "      <td>80</td>\n",
              "      <td>180881369</td>\n",
              "      <td>38848</td>\n",
              "      <td>6</td>\n",
              "      <td>26/04/201711:11:17</td>\n",
              "      <td>217</td>\n",
              "      <td>1</td>\n",
              "      <td>3</td>\n",
              "      <td>...</td>\n",
              "      <td>0.0</td>\n",
              "      <td>0.0</td>\n",
              "      <td>0.0</td>\n",
              "      <td>0.0</td>\n",
              "      <td>0.0</td>\n",
              "      <td>0.0</td>\n",
              "      <td>0.0</td>\n",
              "      <td>BENIGN</td>\n",
              "      <td>7</td>\n",
              "      <td>HTTP</td>\n",
              "    </tr>\n",
              "    <tr>\n",
              "      <th>4</th>\n",
              "      <td>192.168.72.43-10.200.7.7-55961-3128-6</td>\n",
              "      <td>3232253995</td>\n",
              "      <td>55961</td>\n",
              "      <td>180881159</td>\n",
              "      <td>3128</td>\n",
              "      <td>6</td>\n",
              "      <td>26/04/201711:11:17</td>\n",
              "      <td>78068</td>\n",
              "      <td>5</td>\n",
              "      <td>0</td>\n",
              "      <td>...</td>\n",
              "      <td>0.0</td>\n",
              "      <td>0.0</td>\n",
              "      <td>0.0</td>\n",
              "      <td>0.0</td>\n",
              "      <td>0.0</td>\n",
              "      <td>0.0</td>\n",
              "      <td>0.0</td>\n",
              "      <td>BENIGN</td>\n",
              "      <td>131</td>\n",
              "      <td>HTTP_PROXY</td>\n",
              "    </tr>\n",
              "  </tbody>\n",
              "</table>\n",
              "<p>5 rows × 87 columns</p>\n",
              "</div>\n",
              "    <div class=\"colab-df-buttons\">\n",
              "\n",
              "  <div class=\"colab-df-container\">\n",
              "    <button class=\"colab-df-convert\" onclick=\"convertToInteractive('df-3f129e54-f5b3-4ca6-b252-1d484aa545e3')\"\n",
              "            title=\"Convert this dataframe to an interactive table.\"\n",
              "            style=\"display:none;\">\n",
              "\n",
              "  <svg xmlns=\"http://www.w3.org/2000/svg\" height=\"24px\" viewBox=\"0 -960 960 960\">\n",
              "    <path d=\"M120-120v-720h720v720H120Zm60-500h600v-160H180v160Zm220 220h160v-160H400v160Zm0 220h160v-160H400v160ZM180-400h160v-160H180v160Zm440 0h160v-160H620v160ZM180-180h160v-160H180v160Zm440 0h160v-160H620v160Z\"/>\n",
              "  </svg>\n",
              "    </button>\n",
              "\n",
              "  <style>\n",
              "    .colab-df-container {\n",
              "      display:flex;\n",
              "      gap: 12px;\n",
              "    }\n",
              "\n",
              "    .colab-df-convert {\n",
              "      background-color: #E8F0FE;\n",
              "      border: none;\n",
              "      border-radius: 50%;\n",
              "      cursor: pointer;\n",
              "      display: none;\n",
              "      fill: #1967D2;\n",
              "      height: 32px;\n",
              "      padding: 0 0 0 0;\n",
              "      width: 32px;\n",
              "    }\n",
              "\n",
              "    .colab-df-convert:hover {\n",
              "      background-color: #E2EBFA;\n",
              "      box-shadow: 0px 1px 2px rgba(60, 64, 67, 0.3), 0px 1px 3px 1px rgba(60, 64, 67, 0.15);\n",
              "      fill: #174EA6;\n",
              "    }\n",
              "\n",
              "    .colab-df-buttons div {\n",
              "      margin-bottom: 4px;\n",
              "    }\n",
              "\n",
              "    [theme=dark] .colab-df-convert {\n",
              "      background-color: #3B4455;\n",
              "      fill: #D2E3FC;\n",
              "    }\n",
              "\n",
              "    [theme=dark] .colab-df-convert:hover {\n",
              "      background-color: #434B5C;\n",
              "      box-shadow: 0px 1px 3px 1px rgba(0, 0, 0, 0.15);\n",
              "      filter: drop-shadow(0px 1px 2px rgba(0, 0, 0, 0.3));\n",
              "      fill: #FFFFFF;\n",
              "    }\n",
              "  </style>\n",
              "\n",
              "    <script>\n",
              "      const buttonEl =\n",
              "        document.querySelector('#df-3f129e54-f5b3-4ca6-b252-1d484aa545e3 button.colab-df-convert');\n",
              "      buttonEl.style.display =\n",
              "        google.colab.kernel.accessAllowed ? 'block' : 'none';\n",
              "\n",
              "      async function convertToInteractive(key) {\n",
              "        const element = document.querySelector('#df-3f129e54-f5b3-4ca6-b252-1d484aa545e3');\n",
              "        const dataTable =\n",
              "          await google.colab.kernel.invokeFunction('convertToInteractive',\n",
              "                                                    [key], {});\n",
              "        if (!dataTable) return;\n",
              "\n",
              "        const docLinkHtml = 'Like what you see? Visit the ' +\n",
              "          '<a target=\"_blank\" href=https://colab.research.google.com/notebooks/data_table.ipynb>data table notebook</a>'\n",
              "          + ' to learn more about interactive tables.';\n",
              "        element.innerHTML = '';\n",
              "        dataTable['output_type'] = 'display_data';\n",
              "        await google.colab.output.renderOutput(dataTable, element);\n",
              "        const docLink = document.createElement('div');\n",
              "        docLink.innerHTML = docLinkHtml;\n",
              "        element.appendChild(docLink);\n",
              "      }\n",
              "    </script>\n",
              "  </div>\n",
              "\n",
              "\n",
              "<div id=\"df-df3a093c-9449-43e4-9274-a72fe04b29f8\">\n",
              "  <button class=\"colab-df-quickchart\" onclick=\"quickchart('df-df3a093c-9449-43e4-9274-a72fe04b29f8')\"\n",
              "            title=\"Suggest charts\"\n",
              "            style=\"display:none;\">\n",
              "\n",
              "<svg xmlns=\"http://www.w3.org/2000/svg\" height=\"24px\"viewBox=\"0 0 24 24\"\n",
              "     width=\"24px\">\n",
              "    <g>\n",
              "        <path d=\"M19 3H5c-1.1 0-2 .9-2 2v14c0 1.1.9 2 2 2h14c1.1 0 2-.9 2-2V5c0-1.1-.9-2-2-2zM9 17H7v-7h2v7zm4 0h-2V7h2v10zm4 0h-2v-4h2v4z\"/>\n",
              "    </g>\n",
              "</svg>\n",
              "  </button>\n",
              "\n",
              "<style>\n",
              "  .colab-df-quickchart {\n",
              "      --bg-color: #E8F0FE;\n",
              "      --fill-color: #1967D2;\n",
              "      --hover-bg-color: #E2EBFA;\n",
              "      --hover-fill-color: #174EA6;\n",
              "      --disabled-fill-color: #AAA;\n",
              "      --disabled-bg-color: #DDD;\n",
              "  }\n",
              "\n",
              "  [theme=dark] .colab-df-quickchart {\n",
              "      --bg-color: #3B4455;\n",
              "      --fill-color: #D2E3FC;\n",
              "      --hover-bg-color: #434B5C;\n",
              "      --hover-fill-color: #FFFFFF;\n",
              "      --disabled-bg-color: #3B4455;\n",
              "      --disabled-fill-color: #666;\n",
              "  }\n",
              "\n",
              "  .colab-df-quickchart {\n",
              "    background-color: var(--bg-color);\n",
              "    border: none;\n",
              "    border-radius: 50%;\n",
              "    cursor: pointer;\n",
              "    display: none;\n",
              "    fill: var(--fill-color);\n",
              "    height: 32px;\n",
              "    padding: 0;\n",
              "    width: 32px;\n",
              "  }\n",
              "\n",
              "  .colab-df-quickchart:hover {\n",
              "    background-color: var(--hover-bg-color);\n",
              "    box-shadow: 0 1px 2px rgba(60, 64, 67, 0.3), 0 1px 3px 1px rgba(60, 64, 67, 0.15);\n",
              "    fill: var(--button-hover-fill-color);\n",
              "  }\n",
              "\n",
              "  .colab-df-quickchart-complete:disabled,\n",
              "  .colab-df-quickchart-complete:disabled:hover {\n",
              "    background-color: var(--disabled-bg-color);\n",
              "    fill: var(--disabled-fill-color);\n",
              "    box-shadow: none;\n",
              "  }\n",
              "\n",
              "  .colab-df-spinner {\n",
              "    border: 2px solid var(--fill-color);\n",
              "    border-color: transparent;\n",
              "    border-bottom-color: var(--fill-color);\n",
              "    animation:\n",
              "      spin 1s steps(1) infinite;\n",
              "  }\n",
              "\n",
              "  @keyframes spin {\n",
              "    0% {\n",
              "      border-color: transparent;\n",
              "      border-bottom-color: var(--fill-color);\n",
              "      border-left-color: var(--fill-color);\n",
              "    }\n",
              "    20% {\n",
              "      border-color: transparent;\n",
              "      border-left-color: var(--fill-color);\n",
              "      border-top-color: var(--fill-color);\n",
              "    }\n",
              "    30% {\n",
              "      border-color: transparent;\n",
              "      border-left-color: var(--fill-color);\n",
              "      border-top-color: var(--fill-color);\n",
              "      border-right-color: var(--fill-color);\n",
              "    }\n",
              "    40% {\n",
              "      border-color: transparent;\n",
              "      border-right-color: var(--fill-color);\n",
              "      border-top-color: var(--fill-color);\n",
              "    }\n",
              "    60% {\n",
              "      border-color: transparent;\n",
              "      border-right-color: var(--fill-color);\n",
              "    }\n",
              "    80% {\n",
              "      border-color: transparent;\n",
              "      border-right-color: var(--fill-color);\n",
              "      border-bottom-color: var(--fill-color);\n",
              "    }\n",
              "    90% {\n",
              "      border-color: transparent;\n",
              "      border-bottom-color: var(--fill-color);\n",
              "    }\n",
              "  }\n",
              "</style>\n",
              "\n",
              "  <script>\n",
              "    async function quickchart(key) {\n",
              "      const quickchartButtonEl =\n",
              "        document.querySelector('#' + key + ' button');\n",
              "      quickchartButtonEl.disabled = true;  // To prevent multiple clicks.\n",
              "      quickchartButtonEl.classList.add('colab-df-spinner');\n",
              "      try {\n",
              "        const charts = await google.colab.kernel.invokeFunction(\n",
              "            'suggestCharts', [key], {});\n",
              "      } catch (error) {\n",
              "        console.error('Error during call to suggestCharts:', error);\n",
              "      }\n",
              "      quickchartButtonEl.classList.remove('colab-df-spinner');\n",
              "      quickchartButtonEl.classList.add('colab-df-quickchart-complete');\n",
              "    }\n",
              "    (() => {\n",
              "      let quickchartButtonEl =\n",
              "        document.querySelector('#df-df3a093c-9449-43e4-9274-a72fe04b29f8 button');\n",
              "      quickchartButtonEl.style.display =\n",
              "        google.colab.kernel.accessAllowed ? 'block' : 'none';\n",
              "    })();\n",
              "  </script>\n",
              "</div>\n",
              "\n",
              "    </div>\n",
              "  </div>\n"
            ],
            "application/vnd.google.colaboratory.intrinsic+json": {
              "type": "dataframe",
              "variable_name": "data"
            }
          },
          "metadata": {},
          "execution_count": 16
        }
      ]
    },
    {
      "cell_type": "code",
      "source": [
        "# Checking if any value in the dataframe is null\n",
        "data.isnull().values.any()"
      ],
      "metadata": {
        "colab": {
          "base_uri": "https://localhost:8080/"
        },
        "id": "v97cFSncth4B",
        "outputId": "2eb28b33-9a6c-4fc0-dd77-ad50691ab9aa"
      },
      "execution_count": null,
      "outputs": [
        {
          "output_type": "execute_result",
          "data": {
            "text/plain": [
              "False"
            ]
          },
          "metadata": {},
          "execution_count": 17
        }
      ]
    },
    {
      "cell_type": "code",
      "source": [
        "# Checking types of values\n",
        "print(data.dtypes)"
      ],
      "metadata": {
        "colab": {
          "base_uri": "https://localhost:8080/"
        },
        "id": "wIvGHty4tpPK",
        "outputId": "66a02ea3-2883-4ae7-af8a-e56c10808e65"
      },
      "execution_count": null,
      "outputs": [
        {
          "output_type": "stream",
          "name": "stdout",
          "text": [
            "Flow.ID              object\n",
            "Source.IP             int64\n",
            "Source.Port           int64\n",
            "Destination.IP        int64\n",
            "Destination.Port      int64\n",
            "                     ...   \n",
            "Idle.Max            float64\n",
            "Idle.Min            float64\n",
            "Label                object\n",
            "L7Protocol            int64\n",
            "ProtocolName         object\n",
            "Length: 87, dtype: object\n"
          ]
        }
      ]
    },
    {
      "cell_type": "code",
      "source": [
        "# Checking columns that have only one unique value\n",
        "data.columns[data.nunique() <= 1]"
      ],
      "metadata": {
        "colab": {
          "base_uri": "https://localhost:8080/"
        },
        "id": "QpDBZauIt1dq",
        "outputId": "639f132f-be28-43d0-9e38-76bacd99996b"
      },
      "execution_count": null,
      "outputs": [
        {
          "output_type": "execute_result",
          "data": {
            "text/plain": [
              "Index(['Bwd.PSH.Flags', 'Fwd.URG.Flags', 'Bwd.URG.Flags', 'CWE.Flag.Count',\n",
              "       'Fwd.Avg.Bytes.Bulk', 'Fwd.Avg.Packets.Bulk', 'Fwd.Avg.Bulk.Rate',\n",
              "       'Bwd.Avg.Bytes.Bulk', 'Bwd.Avg.Packets.Bulk', 'Bwd.Avg.Bulk.Rate',\n",
              "       'Label'],\n",
              "      dtype='object')"
            ]
          },
          "metadata": {},
          "execution_count": 19
        }
      ]
    },
    {
      "cell_type": "code",
      "source": [
        "count=0\n",
        "for row in data[\"ProtocolName\"]:\n",
        "  if row==\" \":\n",
        "    count+=1\n",
        "print(count)\n"
      ],
      "metadata": {
        "colab": {
          "base_uri": "https://localhost:8080/"
        },
        "id": "UJxH8oJ5u4sw",
        "outputId": "c90b4204-c9ea-4b05-e39b-5d5661c6d0ec"
      },
      "execution_count": null,
      "outputs": [
        {
          "output_type": "stream",
          "name": "stdout",
          "text": [
            "0\n"
          ]
        }
      ]
    },
    {
      "cell_type": "code",
      "source": [
        "# Checking occurance of each application\n",
        "data['ProtocolName'].value_counts()"
      ],
      "metadata": {
        "colab": {
          "base_uri": "https://localhost:8080/",
          "height": 490
        },
        "id": "fvov1CedvOI5",
        "outputId": "e881296f-6676-44a9-c7b2-af314cb86d4d"
      },
      "execution_count": null,
      "outputs": [
        {
          "output_type": "execute_result",
          "data": {
            "text/plain": [
              "ProtocolName\n",
              "GOOGLE          529876\n",
              "HTTP            414741\n",
              "HTTP_PROXY      318837\n",
              "SSL             238272\n",
              "HTTP_CONNECT    181507\n",
              "                 ...  \n",
              "SIMET                2\n",
              "OPENVPN              2\n",
              "99TAXI               1\n",
              "TELEGRAM             1\n",
              "NFS                  1\n",
              "Name: count, Length: 70, dtype: int64"
            ],
            "text/html": [
              "<div>\n",
              "<style scoped>\n",
              "    .dataframe tbody tr th:only-of-type {\n",
              "        vertical-align: middle;\n",
              "    }\n",
              "\n",
              "    .dataframe tbody tr th {\n",
              "        vertical-align: top;\n",
              "    }\n",
              "\n",
              "    .dataframe thead th {\n",
              "        text-align: right;\n",
              "    }\n",
              "</style>\n",
              "<table border=\"1\" class=\"dataframe\">\n",
              "  <thead>\n",
              "    <tr style=\"text-align: right;\">\n",
              "      <th></th>\n",
              "      <th>count</th>\n",
              "    </tr>\n",
              "    <tr>\n",
              "      <th>ProtocolName</th>\n",
              "      <th></th>\n",
              "    </tr>\n",
              "  </thead>\n",
              "  <tbody>\n",
              "    <tr>\n",
              "      <th>GOOGLE</th>\n",
              "      <td>529876</td>\n",
              "    </tr>\n",
              "    <tr>\n",
              "      <th>HTTP</th>\n",
              "      <td>414741</td>\n",
              "    </tr>\n",
              "    <tr>\n",
              "      <th>HTTP_PROXY</th>\n",
              "      <td>318837</td>\n",
              "    </tr>\n",
              "    <tr>\n",
              "      <th>SSL</th>\n",
              "      <td>238272</td>\n",
              "    </tr>\n",
              "    <tr>\n",
              "      <th>HTTP_CONNECT</th>\n",
              "      <td>181507</td>\n",
              "    </tr>\n",
              "    <tr>\n",
              "      <th>...</th>\n",
              "      <td>...</td>\n",
              "    </tr>\n",
              "    <tr>\n",
              "      <th>SIMET</th>\n",
              "      <td>2</td>\n",
              "    </tr>\n",
              "    <tr>\n",
              "      <th>OPENVPN</th>\n",
              "      <td>2</td>\n",
              "    </tr>\n",
              "    <tr>\n",
              "      <th>99TAXI</th>\n",
              "      <td>1</td>\n",
              "    </tr>\n",
              "    <tr>\n",
              "      <th>TELEGRAM</th>\n",
              "      <td>1</td>\n",
              "    </tr>\n",
              "    <tr>\n",
              "      <th>NFS</th>\n",
              "      <td>1</td>\n",
              "    </tr>\n",
              "  </tbody>\n",
              "</table>\n",
              "<p>70 rows × 1 columns</p>\n",
              "</div><br><label><b>dtype:</b> int64</label>"
            ]
          },
          "metadata": {},
          "execution_count": 22
        }
      ]
    },
    {
      "cell_type": "code",
      "source": [
        "# Plot the number of records for individual applications\n",
        "target_count = data['ProtocolName'].value_counts()\n",
        "plt.figure(figsize=(16,10))\n",
        "target_count.plot(kind='bar', title='Occurance');"
      ],
      "metadata": {
        "colab": {
          "base_uri": "https://localhost:8080/",
          "height": 1000
        },
        "id": "YQyBCQfqwGOG",
        "outputId": "a2404c57-f248-49d8-a392-a29c7212d1a7"
      },
      "execution_count": null,
      "outputs": [
        {
          "output_type": "display_data",
          "data": {
            "text/plain": [
              "<Figure size 1600x1000 with 1 Axes>"
            ],
            "image/png": "[encoded data removed]"
          },
          "metadata": {}
        }
      ]
    },
    {
      "cell_type": "code",
      "source": [
        "# Step 1: Select all feature columns except 'ProtocolName'\n",
        "feature_columns = data.columns.drop('ProtocolName')\n",
        "\n",
        "# Step 2: Create the feature matrix X by selecting those columns and converting to float\n",
        "X = data[feature_columns].apply(pd.to_numeric, errors='coerce')\n",
        "\n",
        "# Step 3: Assign the target variable Y as the 'ProtocolName' column\n",
        "Y = data['ProtocolName']\n"
      ],
      "metadata": {
        "id": "Va53IDe3wXCP"
      },
      "execution_count": null,
      "outputs": []
    },
    {
      "cell_type": "code",
      "source": [
        "# Convert application names to numbers\n",
        "encoder = LabelEncoder()\n",
        "encoder.fit(Y)\n",
        "encoded_Y = encoder.transform(Y)"
      ],
      "metadata": {
        "id": "DC5uKf-nx5Cu"
      },
      "execution_count": null,
      "outputs": []
    },
    {
      "cell_type": "code",
      "source": [
        "print(sorted(Counter(Y).items()))"
      ],
      "metadata": {
        "colab": {
          "base_uri": "https://localhost:8080/"
        },
        "id": "KMNaJC4IzBKN",
        "outputId": "6f63d6c9-fed1-4274-daf8-53cebda6c715"
      },
      "execution_count": null,
      "outputs": [
        {
          "output_type": "stream",
          "name": "stdout",
          "text": [
            "[('99TAXI', 1), ('AMAZON', 31296), ('APPLE', 2766), ('APPLE_ICLOUD', 461), ('APPLE_ITUNES', 545), ('CITRIX', 11), ('CITRIX_ONLINE', 12), ('CLOUDFLARE', 8888), ('CONTENT_FLASH', 4277), ('DEEZER', 68), ('DNS', 904), ('DROPBOX', 12856), ('EASYTAXI', 179), ('EBAY', 820), ('EDONKEY', 68), ('FACEBOOK', 15292), ('FTP_CONTROL', 23), ('FTP_DATA', 127), ('GMAIL', 20282), ('GOOGLE', 529876), ('GOOGLE_MAPS', 403), ('H323', 2), ('HTTP', 414741), ('HTTP_CONNECT', 181507), ('HTTP_DOWNLOAD', 280), ('HTTP_PROXY', 318837), ('INSTAGRAM', 1589), ('IP_ICMP', 867), ('LOTUS_NOTES', 4), ('MAIL_IMAPS', 4), ('MICROSOFT', 35055), ('MQTT', 149), ('MSN', 8843), ('MSSQL', 4), ('MS_ONE_DRIVE', 1140), ('NETFLIX', 1183), ('NFS', 1), ('NTP', 79), ('OFFICE_365', 2724), ('OPENSIGNAL', 9), ('OPENVPN', 2), ('ORACLE', 12), ('OSCAR', 4), ('QQ', 2), ('RTMP', 2), ('SIMET', 2), ('SKINNY', 8), ('SKYPE', 16422), ('SNMP', 2), ('SPOTIFY', 794), ('SSH', 80), ('SSL', 238272), ('SSL_NO_CERT', 523), ('STARCRAFT', 3), ('TEAMSPEAK', 3), ('TEAMVIEWER', 276), ('TELEGRAM', 1), ('TOR', 201), ('TWITCH', 24), ('TWITTER', 9676), ('UBUNTUONE', 180), ('UNENCRYPED_JABBER', 31), ('UPNP', 4), ('WAZE', 52), ('WHATSAPP', 1870), ('WHOIS_DAS', 10), ('WIKIPEDIA', 1114), ('WINDOWS_UPDATE', 20869), ('YAHOO', 14283), ('YOUTUBE', 99105)]\n"
          ]
        }
      ]
    },
    {
      "cell_type": "code",
      "source": [
        "print(sorted(Counter(encoded_Y).items()))"
      ],
      "metadata": {
        "colab": {
          "base_uri": "https://localhost:8080/"
        },
        "id": "17vHaPnezq6Z",
        "outputId": "2b5ef2e9-8cf8-47a1-a175-b798bd7e1f33"
      },
      "execution_count": null,
      "outputs": [
        {
          "output_type": "stream",
          "name": "stdout",
          "text": [
            "[(0, 1), (1, 31296), (2, 2766), (3, 461), (4, 545), (5, 11), (6, 12), (7, 8888), (8, 4277), (9, 68), (10, 904), (11, 12856), (12, 179), (13, 820), (14, 68), (15, 15292), (16, 23), (17, 127), (18, 20282), (19, 529876), (20, 403), (21, 2), (22, 414741), (23, 181507), (24, 280), (25, 318837), (26, 1589), (27, 867), (28, 4), (29, 4), (30, 35055), (31, 149), (32, 8843), (33, 4), (34, 1140), (35, 1183), (36, 1), (37, 79), (38, 2724), (39, 9), (40, 2), (41, 12), (42, 4), (43, 2), (44, 2), (45, 2), (46, 8), (47, 16422), (48, 2), (49, 794), (50, 80), (51, 238272), (52, 523), (53, 3), (54, 3), (55, 276), (56, 1), (57, 201), (58, 24), (59, 9676), (60, 180), (61, 31), (62, 4), (63, 52), (64, 1870), (65, 10), (66, 1114), (67, 20869), (68, 14283), (69, 99105)]\n"
          ]
        }
      ]
    },
    {
      "cell_type": "code",
      "source": [
        "\n",
        "dict_nearMiss = {\n",
        "\"GOOGLE\":            8000,\n",
        "\"HTTP\":              8000,\n",
        "\"HTTP_PROXY\":        8000,\n",
        "\"SSL\":               8000,\n",
        "\"HTTP_CONNECT\":      8000,\n",
        "\"YOUTUBE\":           8000,\n",
        "\"AMAZON\":             8000,\n",
        "\"MICROSOFT\":          8000,\n",
        "\"GMAIL\":              8000,\n",
        "\"WINDOWS_UPDATE\":     8000,\n",
        "\"SKYPE\":              8000,\n",
        "\"FACEBOOK\":           8000,\n",
        "\"DROPBOX\":            8000,\n",
        "\"YAHOO\":              8000,\n",
        "\"TWITTER\":            8000,\n",
        "\"CLOUDFLARE\":         8000,\n",
        "\"MSN\":                8000,\n",
        "}"
      ],
      "metadata": {
        "id": "sZ5nb7Hr0KKE"
      },
      "execution_count": null,
      "outputs": []
    },
    {
      "cell_type": "code",
      "source": [
        "dict_smote = { \"CONTENT_FLASH\":       8000,\n",
        "\"APPLE\":               8000,\n",
        "\"OFFICE_365\":        8000,\n",
        "\"WHATSAPP\":            8000,\n",
        "\"INSTAGRAM\":          8000,\n",
        "\"WIKIPEDIA\":           8000,\n",
        "\"MS_ONE_DRIVE\":        8000,\n",
        "\"DNS\":                 8000,\n",
        "\"IP_ICMP\":             8000,\n",
        "\"NETFLIX\":             8000,\n",
        "\"APPLE_ITUNES\":        8000,\n",
        "\"SPOTIFY\":             8000,\n",
        "\"APPLE_ICLOUD\":        8000,\n",
        "\"EBAY\":               8000,\n",
        "\"SSL_NO_CERT\":          8000,\n",
        "\"GOOGLE_MAPS\":          8000,\n",
        "\"EASYTAXI\":             8000,\n",
        "\"TEAMVIEWER\":           8000,\n",
        "\"HTTP_DOWNLOAD\":        8000,\n",
        "\"MQTT\":                 8000,\n",
        "\"TOR\":                  8000,\n",
        "\"FTP_DATA\":             8000,\n",
        "\"UBUNTUONE\":            8000,\n",
        "\"NTP\":                  8000,\n",
        "\"SSH\": 8000}"
      ],
      "metadata": {
        "id": "r1cINu9m0mVp"
      },
      "execution_count": null,
      "outputs": []
    },
    {
      "cell_type": "code",
      "source": [
        "# Check for missing values\n",
        "missing_values = X.isnull().sum()\n",
        "print(missing_values[missing_values > 0])  # Show columns with missing values"
      ],
      "metadata": {
        "colab": {
          "base_uri": "https://localhost:8080/"
        },
        "id": "T-UAC_3o-fBw",
        "outputId": "e1c692ec-94dd-48df-bd8e-ab74251edc67"
      },
      "execution_count": null,
      "outputs": [
        {
          "output_type": "stream",
          "name": "stdout",
          "text": [
            "Flow.ID      2000000\n",
            "Timestamp    2000000\n",
            "Label        2000000\n",
            "dtype: int64\n"
          ]
        }
      ]
    },
    {
      "cell_type": "code",
      "source": [
        "# Assuming df is your DataFrame\n",
        "X = X.drop(['Flow.ID', 'Timestamp','Label'], axis=1)"
      ],
      "metadata": {
        "id": "ety9YfbX_rle"
      },
      "execution_count": null,
      "outputs": []
    },
    {
      "cell_type": "code",
      "source": [
        "# Check for missing values\n",
        "missing_values = X.isnull().sum()\n",
        "print(missing_values[missing_values > 0])"
      ],
      "metadata": {
        "colab": {
          "base_uri": "https://localhost:8080/"
        },
        "id": "23ZtomV2___N",
        "outputId": "6253f146-f1cb-4532-887d-94b28ffdac60"
      },
      "execution_count": null,
      "outputs": [
        {
          "output_type": "stream",
          "name": "stdout",
          "text": [
            "Series([], dtype: int64)\n"
          ]
        }
      ]
    },
    {
      "cell_type": "code",
      "source": [
        "from collections import Counter\n",
        "\n",
        "# After applying SMOTE\n",
        "print(Counter(Y))  # To see the number of samples in each class\n"
      ],
      "metadata": {
        "colab": {
          "base_uri": "https://localhost:8080/"
        },
        "id": "E7zo7aL1CopQ",
        "outputId": "1ad64c4a-6177-46d5-ee4b-071560ee217b"
      },
      "execution_count": null,
      "outputs": [
        {
          "output_type": "stream",
          "name": "stdout",
          "text": [
            "Counter({'GOOGLE': 529876, 'HTTP': 414741, 'HTTP_PROXY': 318837, 'SSL': 238272, 'HTTP_CONNECT': 181507, 'YOUTUBE': 99105, 'MICROSOFT': 35055, 'AMAZON': 31296, 'WINDOWS_UPDATE': 20869, 'GMAIL': 20282, 'SKYPE': 16422, 'FACEBOOK': 15292, 'YAHOO': 14283, 'DROPBOX': 12856, 'TWITTER': 9676, 'CLOUDFLARE': 8888, 'MSN': 8843, 'CONTENT_FLASH': 4277, 'APPLE': 2766, 'OFFICE_365': 2724, 'WHATSAPP': 1870, 'INSTAGRAM': 1589, 'NETFLIX': 1183, 'MS_ONE_DRIVE': 1140, 'WIKIPEDIA': 1114, 'DNS': 904, 'IP_ICMP': 867, 'EBAY': 820, 'SPOTIFY': 794, 'APPLE_ITUNES': 545, 'SSL_NO_CERT': 523, 'APPLE_ICLOUD': 461, 'GOOGLE_MAPS': 403, 'HTTP_DOWNLOAD': 280, 'TEAMVIEWER': 276, 'TOR': 201, 'UBUNTUONE': 180, 'EASYTAXI': 179, 'MQTT': 149, 'FTP_DATA': 127, 'SSH': 80, 'NTP': 79, 'EDONKEY': 68, 'DEEZER': 68, 'WAZE': 52, 'UNENCRYPED_JABBER': 31, 'TWITCH': 24, 'FTP_CONTROL': 23, 'ORACLE': 12, 'CITRIX_ONLINE': 12, 'CITRIX': 11, 'WHOIS_DAS': 10, 'OPENSIGNAL': 9, 'SKINNY': 8, 'MSSQL': 4, 'MAIL_IMAPS': 4, 'UPNP': 4, 'OSCAR': 4, 'LOTUS_NOTES': 4, 'STARCRAFT': 3, 'TEAMSPEAK': 3, 'SIMET': 2, 'OPENVPN': 2, 'RTMP': 2, 'SNMP': 2, 'QQ': 2, 'H323': 2, 'NFS': 1, '99TAXI': 1, 'TELEGRAM': 1})\n"
          ]
        }
      ]
    },
    {
      "cell_type": "code",
      "source": [
        "# Apply SMOTE first\n",
        "smote = SMOTE(sampling_strategy=dict_smote)\n",
        "X_smote, Y_smote = smote.fit_resample(X, Y)\n"
      ],
      "metadata": {
        "id": "w0itzBJS0s1e"
      },
      "execution_count": null,
      "outputs": []
    },
    {
      "cell_type": "code",
      "source": [
        "# Adjusting NearMiss with a safe n_neighbors value\n",
        "# Find the smallest class size\n",
        "min_samples = min(Counter(Y_smote).values())\n",
        "\n",
        "# Set n_neighbors to the smallest class size\n",
        "n_neighbors = min(1, min_samples)  # Avoids being less than 1\n",
        "\n",
        "near_miss = NearMiss(sampling_strategy=dict_nearMiss, n_neighbors=n_neighbors)\n",
        "X_resampled, Y_resampled = near_miss.fit_resample(X_smote, Y_smote)\n"
      ],
      "metadata": {
        "id": "S4Il7g347UY0"
      },
      "execution_count": null,
      "outputs": []
    },
    {
      "cell_type": "code",
      "source": [
        "print(\"Shape of original data \" + str(data.shape))\n",
        "print(\"Shape X \" + str(X.shape))\n",
        "print(\"Shape X_resampled\" + str(X_resampled.shape))\n",
        "print(\"Shape Y \" + str(Y.shape))\n",
        "print(\"Shape y_resampled\" + str(Y_resampled.shape))"
      ],
      "metadata": {
        "colab": {
          "base_uri": "https://localhost:8080/"
        },
        "id": "tDw7Rh6KcKiC",
        "outputId": "ac97fa39-3d6a-48b7-b2fb-7ff169e94cd8"
      },
      "execution_count": null,
      "outputs": [
        {
          "output_type": "stream",
          "name": "stdout",
          "text": [
            "Shape of original data (2000000, 87)\n",
            "Shape X (2000000, 83)\n",
            "Shape X_resampled(336369, 83)\n",
            "Shape Y (2000000,)\n",
            "Shape y_resampled(336369,)\n"
          ]
        }
      ]
    },
    {
      "cell_type": "code",
      "source": [
        "# creating new dataset\n",
        "new_dataframe = pd.DataFrame(data = X_resampled, columns = feature_columns)"
      ],
      "metadata": {
        "id": "cuUhiWU_cVQO"
      },
      "execution_count": null,
      "outputs": []
    },
    {
      "cell_type": "code",
      "source": [
        "new_dataframe['ProtocolName'] = Y_resampled"
      ],
      "metadata": {
        "id": "lV4FU_AKcnel"
      },
      "execution_count": null,
      "outputs": []
    },
    {
      "cell_type": "code",
      "source": [
        "new_dataframe.describe()"
      ],
      "metadata": {
        "colab": {
          "base_uri": "https://localhost:8080/",
          "height": 350
        },
        "id": "R8mkf3sfdHAb",
        "outputId": "d4fc7bd1-cdb7-4405-968a-51402bb9b515"
      },
      "execution_count": null,
      "outputs": [
        {
          "output_type": "execute_result",
          "data": {
            "text/plain": [
              "       Flow.ID     Source.IP    Source.Port  Destination.IP  Destination.Port  \\\n",
              "count      0.0  3.363690e+05  336369.000000    3.363690e+05     336369.000000   \n",
              "mean       NaN  8.090491e+08   40290.501375    1.661193e+09       5999.392905   \n",
              "std        NaN  1.216230e+09   18798.383509    1.320381e+09      15285.414651   \n",
              "min        NaN  9.053086e+07       0.000000    1.354038e+08          0.000000   \n",
              "25%        NaN  1.808813e+08   36543.000000    1.808813e+08         80.000000   \n",
              "50%        NaN  1.808814e+08   47142.000000    1.572395e+09        443.000000   \n",
              "75%        NaN  1.808814e+08   52818.000000    3.003188e+09       3128.000000   \n",
              "max        NaN  3.627732e+09   65473.000000    3.650231e+09      65534.000000   \n",
              "\n",
              "            Protocol  Timestamp  Flow.Duration  Total.Fwd.Packets  \\\n",
              "count  336369.000000        0.0   3.363690e+05      336369.000000   \n",
              "mean        6.351685        NaN   1.841337e+07         107.342868   \n",
              "std         2.483660        NaN   3.344433e+07         822.153886   \n",
              "min         0.000000        NaN   1.000000e+00           1.000000   \n",
              "25%         6.000000        NaN   1.537000e+03           2.000000   \n",
              "50%         6.000000        NaN   4.364220e+05           6.000000   \n",
              "75%         6.000000        NaN   1.989897e+07          14.000000   \n",
              "max        17.000000        NaN   1.200000e+08       34591.000000   \n",
              "\n",
              "       Total.Backward.Packets  ...   Active.Mean    Active.Std    Active.Max  \\\n",
              "count           336369.000000  ...  3.363690e+05  3.363690e+05  3.363690e+05   \n",
              "mean               101.925091  ...  6.180545e+05  1.499256e+05  7.920140e+05   \n",
              "std                796.284804  ...  4.647596e+06  1.496376e+06  5.361698e+06   \n",
              "min                  0.000000  ...  0.000000e+00  0.000000e+00  0.000000e+00   \n",
              "25%                  1.000000  ...  0.000000e+00  0.000000e+00  0.000000e+00   \n",
              "50%                  5.000000  ...  0.000000e+00  0.000000e+00  0.000000e+00   \n",
              "75%                 12.000000  ...  0.000000e+00  0.000000e+00  0.000000e+00   \n",
              "max              45360.000000  ...  1.110068e+08  7.225154e+07  1.110068e+08   \n",
              "\n",
              "         Active.Min     Idle.Mean      Idle.Std      Idle.Max      Idle.Min  \\\n",
              "count  3.363690e+05  3.363690e+05  3.363690e+05  3.363690e+05  3.363690e+05   \n",
              "mean   5.093158e+05  5.308010e+06  5.875409e+05  5.835294e+06  4.839647e+06   \n",
              "std    4.417219e+06  1.480925e+07  3.160644e+06  1.585882e+07  1.423503e+07   \n",
              "min    0.000000e+00  0.000000e+00  0.000000e+00  0.000000e+00  0.000000e+00   \n",
              "25%    0.000000e+00  0.000000e+00  0.000000e+00  0.000000e+00  0.000000e+00   \n",
              "50%    0.000000e+00  0.000000e+00  0.000000e+00  0.000000e+00  0.000000e+00   \n",
              "75%    0.000000e+00  0.000000e+00  0.000000e+00  0.000000e+00  0.000000e+00   \n",
              "max    1.110068e+08  1.200000e+08  7.263401e+07  1.200000e+08  1.200000e+08   \n",
              "\n",
              "       Label     L7Protocol  \n",
              "count    0.0  336369.000000  \n",
              "mean     NaN     131.657941  \n",
              "std      NaN      57.897960  \n",
              "min      NaN       1.000000  \n",
              "25%      NaN      92.000000  \n",
              "50%      NaN     133.000000  \n",
              "75%      NaN     175.000000  \n",
              "max      NaN     222.000000  \n",
              "\n",
              "[8 rows x 86 columns]"
            ],
            "text/html": [
              "\n",
              "  <div id=\"df-910d5829-e9c8-4955-81ba-447636f5b776\" class=\"colab-df-container\">\n",
              "    <div>\n",
              "<style scoped>\n",
              "    .dataframe tbody tr th:only-of-type {\n",
              "        vertical-align: middle;\n",
              "    }\n",
              "\n",
              "    .dataframe tbody tr th {\n",
              "        vertical-align: top;\n",
              "    }\n",
              "\n",
              "    .dataframe thead th {\n",
              "        text-align: right;\n",
              "    }\n",
              "</style>\n",
              "<table border=\"1\" class=\"dataframe\">\n",
              "  <thead>\n",
              "    <tr style=\"text-align: right;\">\n",
              "      <th></th>\n",
              "      <th>Flow.ID</th>\n",
              "      <th>Source.IP</th>\n",
              "      <th>Source.Port</th>\n",
              "      <th>Destination.IP</th>\n",
              "      <th>Destination.Port</th>\n",
              "      <th>Protocol</th>\n",
              "      <th>Timestamp</th>\n",
              "      <th>Flow.Duration</th>\n",
              "      <th>Total.Fwd.Packets</th>\n",
              "      <th>Total.Backward.Packets</th>\n",
              "      <th>...</th>\n",
              "      <th>Active.Mean</th>\n",
              "      <th>Active.Std</th>\n",
              "      <th>Active.Max</th>\n",
              "      <th>Active.Min</th>\n",
              "      <th>Idle.Mean</th>\n",
              "      <th>Idle.Std</th>\n",
              "      <th>Idle.Max</th>\n",
              "      <th>Idle.Min</th>\n",
              "      <th>Label</th>\n",
              "      <th>L7Protocol</th>\n",
              "    </tr>\n",
              "  </thead>\n",
              "  <tbody>\n",
              "    <tr>\n",
              "      <th>count</th>\n",
              "      <td>0.0</td>\n",
              "      <td>3.363690e+05</td>\n",
              "      <td>336369.000000</td>\n",
              "      <td>3.363690e+05</td>\n",
              "      <td>336369.000000</td>\n",
              "      <td>336369.000000</td>\n",
              "      <td>0.0</td>\n",
              "      <td>3.363690e+05</td>\n",
              "      <td>336369.000000</td>\n",
              "      <td>336369.000000</td>\n",
              "      <td>...</td>\n",
              "      <td>3.363690e+05</td>\n",
              "      <td>3.363690e+05</td>\n",
              "      <td>3.363690e+05</td>\n",
              "      <td>3.363690e+05</td>\n",
              "      <td>3.363690e+05</td>\n",
              "      <td>3.363690e+05</td>\n",
              "      <td>3.363690e+05</td>\n",
              "      <td>3.363690e+05</td>\n",
              "      <td>0.0</td>\n",
              "      <td>336369.000000</td>\n",
              "    </tr>\n",
              "    <tr>\n",
              "      <th>mean</th>\n",
              "      <td>NaN</td>\n",
              "      <td>8.090491e+08</td>\n",
              "      <td>40290.501375</td>\n",
              "      <td>1.661193e+09</td>\n",
              "      <td>5999.392905</td>\n",
              "      <td>6.351685</td>\n",
              "      <td>NaN</td>\n",
              "      <td>1.841337e+07</td>\n",
              "      <td>107.342868</td>\n",
              "      <td>101.925091</td>\n",
              "      <td>...</td>\n",
              "      <td>6.180545e+05</td>\n",
              "      <td>1.499256e+05</td>\n",
              "      <td>7.920140e+05</td>\n",
              "      <td>5.093158e+05</td>\n",
              "      <td>5.308010e+06</td>\n",
              "      <td>5.875409e+05</td>\n",
              "      <td>5.835294e+06</td>\n",
              "      <td>4.839647e+06</td>\n",
              "      <td>NaN</td>\n",
              "      <td>131.657941</td>\n",
              "    </tr>\n",
              "    <tr>\n",
              "      <th>std</th>\n",
              "      <td>NaN</td>\n",
              "      <td>1.216230e+09</td>\n",
              "      <td>18798.383509</td>\n",
              "      <td>1.320381e+09</td>\n",
              "      <td>15285.414651</td>\n",
              "      <td>2.483660</td>\n",
              "      <td>NaN</td>\n",
              "      <td>3.344433e+07</td>\n",
              "      <td>822.153886</td>\n",
              "      <td>796.284804</td>\n",
              "      <td>...</td>\n",
              "      <td>4.647596e+06</td>\n",
              "      <td>1.496376e+06</td>\n",
              "      <td>5.361698e+06</td>\n",
              "      <td>4.417219e+06</td>\n",
              "      <td>1.480925e+07</td>\n",
              "      <td>3.160644e+06</td>\n",
              "      <td>1.585882e+07</td>\n",
              "      <td>1.423503e+07</td>\n",
              "      <td>NaN</td>\n",
              "      <td>57.897960</td>\n",
              "    </tr>\n",
              "    <tr>\n",
              "      <th>min</th>\n",
              "      <td>NaN</td>\n",
              "      <td>9.053086e+07</td>\n",
              "      <td>0.000000</td>\n",
              "      <td>1.354038e+08</td>\n",
              "      <td>0.000000</td>\n",
              "      <td>0.000000</td>\n",
              "      <td>NaN</td>\n",
              "      <td>1.000000e+00</td>\n",
              "      <td>1.000000</td>\n",
              "      <td>0.000000</td>\n",
              "      <td>...</td>\n",
              "      <td>0.000000e+00</td>\n",
              "      <td>0.000000e+00</td>\n",
              "      <td>0.000000e+00</td>\n",
              "      <td>0.000000e+00</td>\n",
              "      <td>0.000000e+00</td>\n",
              "      <td>0.000000e+00</td>\n",
              "      <td>0.000000e+00</td>\n",
              "      <td>0.000000e+00</td>\n",
              "      <td>NaN</td>\n",
              "      <td>1.000000</td>\n",
              "    </tr>\n",
              "    <tr>\n",
              "      <th>25%</th>\n",
              "      <td>NaN</td>\n",
              "      <td>1.808813e+08</td>\n",
              "      <td>36543.000000</td>\n",
              "      <td>1.808813e+08</td>\n",
              "      <td>80.000000</td>\n",
              "      <td>6.000000</td>\n",
              "      <td>NaN</td>\n",
              "      <td>1.537000e+03</td>\n",
              "      <td>2.000000</td>\n",
              "      <td>1.000000</td>\n",
              "      <td>...</td>\n",
              "      <td>0.000000e+00</td>\n",
              "      <td>0.000000e+00</td>\n",
              "      <td>0.000000e+00</td>\n",
              "      <td>0.000000e+00</td>\n",
              "      <td>0.000000e+00</td>\n",
              "      <td>0.000000e+00</td>\n",
              "      <td>0.000000e+00</td>\n",
              "      <td>0.000000e+00</td>\n",
              "      <td>NaN</td>\n",
              "      <td>92.000000</td>\n",
              "    </tr>\n",
              "    <tr>\n",
              "      <th>50%</th>\n",
              "      <td>NaN</td>\n",
              "      <td>1.808814e+08</td>\n",
              "      <td>47142.000000</td>\n",
              "      <td>1.572395e+09</td>\n",
              "      <td>443.000000</td>\n",
              "      <td>6.000000</td>\n",
              "      <td>NaN</td>\n",
              "      <td>4.364220e+05</td>\n",
              "      <td>6.000000</td>\n",
              "      <td>5.000000</td>\n",
              "      <td>...</td>\n",
              "      <td>0.000000e+00</td>\n",
              "      <td>0.000000e+00</td>\n",
              "      <td>0.000000e+00</td>\n",
              "      <td>0.000000e+00</td>\n",
              "      <td>0.000000e+00</td>\n",
              "      <td>0.000000e+00</td>\n",
              "      <td>0.000000e+00</td>\n",
              "      <td>0.000000e+00</td>\n",
              "      <td>NaN</td>\n",
              "      <td>133.000000</td>\n",
              "    </tr>\n",
              "    <tr>\n",
              "      <th>75%</th>\n",
              "      <td>NaN</td>\n",
              "      <td>1.808814e+08</td>\n",
              "      <td>52818.000000</td>\n",
              "      <td>3.003188e+09</td>\n",
              "      <td>3128.000000</td>\n",
              "      <td>6.000000</td>\n",
              "      <td>NaN</td>\n",
              "      <td>1.989897e+07</td>\n",
              "      <td>14.000000</td>\n",
              "      <td>12.000000</td>\n",
              "      <td>...</td>\n",
              "      <td>0.000000e+00</td>\n",
              "      <td>0.000000e+00</td>\n",
              "      <td>0.000000e+00</td>\n",
              "      <td>0.000000e+00</td>\n",
              "      <td>0.000000e+00</td>\n",
              "      <td>0.000000e+00</td>\n",
              "      <td>0.000000e+00</td>\n",
              "      <td>0.000000e+00</td>\n",
              "      <td>NaN</td>\n",
              "      <td>175.000000</td>\n",
              "    </tr>\n",
              "    <tr>\n",
              "      <th>max</th>\n",
              "      <td>NaN</td>\n",
              "      <td>3.627732e+09</td>\n",
              "      <td>65473.000000</td>\n",
              "      <td>3.650231e+09</td>\n",
              "      <td>65534.000000</td>\n",
              "      <td>17.000000</td>\n",
              "      <td>NaN</td>\n",
              "      <td>1.200000e+08</td>\n",
              "      <td>34591.000000</td>\n",
              "      <td>45360.000000</td>\n",
              "      <td>...</td>\n",
              "      <td>1.110068e+08</td>\n",
              "      <td>7.225154e+07</td>\n",
              "      <td>1.110068e+08</td>\n",
              "      <td>1.110068e+08</td>\n",
              "      <td>1.200000e+08</td>\n",
              "      <td>7.263401e+07</td>\n",
              "      <td>1.200000e+08</td>\n",
              "      <td>1.200000e+08</td>\n",
              "      <td>NaN</td>\n",
              "      <td>222.000000</td>\n",
              "    </tr>\n",
              "  </tbody>\n",
              "</table>\n",
              "<p>8 rows × 86 columns</p>\n",
              "</div>\n",
              "    <div class=\"colab-df-buttons\">\n",
              "\n",
              "  <div class=\"colab-df-container\">\n",
              "    <button class=\"colab-df-convert\" onclick=\"convertToInteractive('df-910d5829-e9c8-4955-81ba-447636f5b776')\"\n",
              "            title=\"Convert this dataframe to an interactive table.\"\n",
              "            style=\"display:none;\">\n",
              "\n",
              "  <svg xmlns=\"http://www.w3.org/2000/svg\" height=\"24px\" viewBox=\"0 -960 960 960\">\n",
              "    <path d=\"M120-120v-720h720v720H120Zm60-500h600v-160H180v160Zm220 220h160v-160H400v160Zm0 220h160v-160H400v160ZM180-400h160v-160H180v160Zm440 0h160v-160H620v160ZM180-180h160v-160H180v160Zm440 0h160v-160H620v160Z\"/>\n",
              "  </svg>\n",
              "    </button>\n",
              "\n",
              "  <style>\n",
              "    .colab-df-container {\n",
              "      display:flex;\n",
              "      gap: 12px;\n",
              "    }\n",
              "\n",
              "    .colab-df-convert {\n",
              "      background-color: #E8F0FE;\n",
              "      border: none;\n",
              "      border-radius: 50%;\n",
              "      cursor: pointer;\n",
              "      display: none;\n",
              "      fill: #1967D2;\n",
              "      height: 32px;\n",
              "      padding: 0 0 0 0;\n",
              "      width: 32px;\n",
              "    }\n",
              "\n",
              "    .colab-df-convert:hover {\n",
              "      background-color: #E2EBFA;\n",
              "      box-shadow: 0px 1px 2px rgba(60, 64, 67, 0.3), 0px 1px 3px 1px rgba(60, 64, 67, 0.15);\n",
              "      fill: #174EA6;\n",
              "    }\n",
              "\n",
              "    .colab-df-buttons div {\n",
              "      margin-bottom: 4px;\n",
              "    }\n",
              "\n",
              "    [theme=dark] .colab-df-convert {\n",
              "      background-color: #3B4455;\n",
              "      fill: #D2E3FC;\n",
              "    }\n",
              "\n",
              "    [theme=dark] .colab-df-convert:hover {\n",
              "      background-color: #434B5C;\n",
              "      box-shadow: 0px 1px 3px 1px rgba(0, 0, 0, 0.15);\n",
              "      filter: drop-shadow(0px 1px 2px rgba(0, 0, 0, 0.3));\n",
              "      fill: #FFFFFF;\n",
              "    }\n",
              "  </style>\n",
              "\n",
              "    <script>\n",
              "      const buttonEl =\n",
              "        document.querySelector('#df-910d5829-e9c8-4955-81ba-447636f5b776 button.colab-df-convert');\n",
              "      buttonEl.style.display =\n",
              "        google.colab.kernel.accessAllowed ? 'block' : 'none';\n",
              "\n",
              "      async function convertToInteractive(key) {\n",
              "        const element = document.querySelector('#df-910d5829-e9c8-4955-81ba-447636f5b776');\n",
              "        const dataTable =\n",
              "          await google.colab.kernel.invokeFunction('convertToInteractive',\n",
              "                                                    [key], {});\n",
              "        if (!dataTable) return;\n",
              "\n",
              "        const docLinkHtml = 'Like what you see? Visit the ' +\n",
              "          '<a target=\"_blank\" href=https://colab.research.google.com/notebooks/data_table.ipynb>data table notebook</a>'\n",
              "          + ' to learn more about interactive tables.';\n",
              "        element.innerHTML = '';\n",
              "        dataTable['output_type'] = 'display_data';\n",
              "        await google.colab.output.renderOutput(dataTable, element);\n",
              "        const docLink = document.createElement('div');\n",
              "        docLink.innerHTML = docLinkHtml;\n",
              "        element.appendChild(docLink);\n",
              "      }\n",
              "    </script>\n",
              "  </div>\n",
              "\n",
              "\n",
              "<div id=\"df-ac4ba77a-590e-4c44-a772-b4b0a6446ea5\">\n",
              "  <button class=\"colab-df-quickchart\" onclick=\"quickchart('df-ac4ba77a-590e-4c44-a772-b4b0a6446ea5')\"\n",
              "            title=\"Suggest charts\"\n",
              "            style=\"display:none;\">\n",
              "\n",
              "<svg xmlns=\"http://www.w3.org/2000/svg\" height=\"24px\"viewBox=\"0 0 24 24\"\n",
              "     width=\"24px\">\n",
              "    <g>\n",
              "        <path d=\"M19 3H5c-1.1 0-2 .9-2 2v14c0 1.1.9 2 2 2h14c1.1 0 2-.9 2-2V5c0-1.1-.9-2-2-2zM9 17H7v-7h2v7zm4 0h-2V7h2v10zm4 0h-2v-4h2v4z\"/>\n",
              "    </g>\n",
              "</svg>\n",
              "  </button>\n",
              "\n",
              "<style>\n",
              "  .colab-df-quickchart {\n",
              "      --bg-color: #E8F0FE;\n",
              "      --fill-color: #1967D2;\n",
              "      --hover-bg-color: #E2EBFA;\n",
              "      --hover-fill-color: #174EA6;\n",
              "      --disabled-fill-color: #AAA;\n",
              "      --disabled-bg-color: #DDD;\n",
              "  }\n",
              "\n",
              "  [theme=dark] .colab-df-quickchart {\n",
              "      --bg-color: #3B4455;\n",
              "      --fill-color: #D2E3FC;\n",
              "      --hover-bg-color: #434B5C;\n",
              "      --hover-fill-color: #FFFFFF;\n",
              "      --disabled-bg-color: #3B4455;\n",
              "      --disabled-fill-color: #666;\n",
              "  }\n",
              "\n",
              "  .colab-df-quickchart {\n",
              "    background-color: var(--bg-color);\n",
              "    border: none;\n",
              "    border-radius: 50%;\n",
              "    cursor: pointer;\n",
              "    display: none;\n",
              "    fill: var(--fill-color);\n",
              "    height: 32px;\n",
              "    padding: 0;\n",
              "    width: 32px;\n",
              "  }\n",
              "\n",
              "  .colab-df-quickchart:hover {\n",
              "    background-color: var(--hover-bg-color);\n",
              "    box-shadow: 0 1px 2px rgba(60, 64, 67, 0.3), 0 1px 3px 1px rgba(60, 64, 67, 0.15);\n",
              "    fill: var(--button-hover-fill-color);\n",
              "  }\n",
              "\n",
              "  .colab-df-quickchart-complete:disabled,\n",
              "  .colab-df-quickchart-complete:disabled:hover {\n",
              "    background-color: var(--disabled-bg-color);\n",
              "    fill: var(--disabled-fill-color);\n",
              "    box-shadow: none;\n",
              "  }\n",
              "\n",
              "  .colab-df-spinner {\n",
              "    border: 2px solid var(--fill-color);\n",
              "    border-color: transparent;\n",
              "    border-bottom-color: var(--fill-color);\n",
              "    animation:\n",
              "      spin 1s steps(1) infinite;\n",
              "  }\n",
              "\n",
              "  @keyframes spin {\n",
              "    0% {\n",
              "      border-color: transparent;\n",
              "      border-bottom-color: var(--fill-color);\n",
              "      border-left-color: var(--fill-color);\n",
              "    }\n",
              "    20% {\n",
              "      border-color: transparent;\n",
              "      border-left-color: var(--fill-color);\n",
              "      border-top-color: var(--fill-color);\n",
              "    }\n",
              "    30% {\n",
              "      border-color: transparent;\n",
              "      border-left-color: var(--fill-color);\n",
              "      border-top-color: var(--fill-color);\n",
              "      border-right-color: var(--fill-color);\n",
              "    }\n",
              "    40% {\n",
              "      border-color: transparent;\n",
              "      border-right-color: var(--fill-color);\n",
              "      border-top-color: var(--fill-color);\n",
              "    }\n",
              "    60% {\n",
              "      border-color: transparent;\n",
              "      border-right-color: var(--fill-color);\n",
              "    }\n",
              "    80% {\n",
              "      border-color: transparent;\n",
              "      border-right-color: var(--fill-color);\n",
              "      border-bottom-color: var(--fill-color);\n",
              "    }\n",
              "    90% {\n",
              "      border-color: transparent;\n",
              "      border-bottom-color: var(--fill-color);\n",
              "    }\n",
              "  }\n",
              "</style>\n",
              "\n",
              "  <script>\n",
              "    async function quickchart(key) {\n",
              "      const quickchartButtonEl =\n",
              "        document.querySelector('#' + key + ' button');\n",
              "      quickchartButtonEl.disabled = true;  // To prevent multiple clicks.\n",
              "      quickchartButtonEl.classList.add('colab-df-spinner');\n",
              "      try {\n",
              "        const charts = await google.colab.kernel.invokeFunction(\n",
              "            'suggestCharts', [key], {});\n",
              "      } catch (error) {\n",
              "        console.error('Error during call to suggestCharts:', error);\n",
              "      }\n",
              "      quickchartButtonEl.classList.remove('colab-df-spinner');\n",
              "      quickchartButtonEl.classList.add('colab-df-quickchart-complete');\n",
              "    }\n",
              "    (() => {\n",
              "      let quickchartButtonEl =\n",
              "        document.querySelector('#df-ac4ba77a-590e-4c44-a772-b4b0a6446ea5 button');\n",
              "      quickchartButtonEl.style.display =\n",
              "        google.colab.kernel.accessAllowed ? 'block' : 'none';\n",
              "    })();\n",
              "  </script>\n",
              "</div>\n",
              "\n",
              "    </div>\n",
              "  </div>\n"
            ],
            "application/vnd.google.colaboratory.intrinsic+json": {
              "type": "dataframe"
            }
          },
          "metadata": {},
          "execution_count": 42
        }
      ]
    },
    {
      "cell_type": "code",
      "source": [
        "new_dataframe.shape"
      ],
      "metadata": {
        "colab": {
          "base_uri": "https://localhost:8080/"
        },
        "id": "-HUhQPPudNSs",
        "outputId": "24dca996-ccbd-48dc-807a-2d88d04bb39d"
      },
      "execution_count": null,
      "outputs": [
        {
          "output_type": "execute_result",
          "data": {
            "text/plain": [
              "(336369, 87)"
            ]
          },
          "metadata": {},
          "execution_count": 43
        }
      ]
    },
    {
      "cell_type": "code",
      "source": [
        "# Assuming df is your DataFrame\n",
        "new_dataframe= new_dataframe.drop(['Flow.ID', 'Timestamp','Label'], axis=1)"
      ],
      "metadata": {
        "id": "xJbuzP6hdZpE"
      },
      "execution_count": null,
      "outputs": []
    },
    {
      "cell_type": "code",
      "source": [
        "new_dataframe.to_csv('Imbalanced.csv', index=False)"
      ],
      "metadata": {
        "id": "OJWzxlgfd2bK"
      },
      "execution_count": null,
      "outputs": []
    }
  ]
}